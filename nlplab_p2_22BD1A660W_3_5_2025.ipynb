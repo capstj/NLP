{
  "nbformat": 4,
  "nbformat_minor": 0,
  "metadata": {
    "colab": {
      "provenance": [],
      "authorship_tag": "ABX9TyOZhUrgzroNUH4B9zsUiSjO",
      "include_colab_link": true
    },
    "kernelspec": {
      "name": "python3",
      "display_name": "Python 3"
    },
    "language_info": {
      "name": "python"
    }
  },
  "cells": [
    {
      "cell_type": "markdown",
      "metadata": {
        "id": "view-in-github",
        "colab_type": "text"
      },
      "source": [
        "<a href=\"https://colab.research.google.com/github/WaryFriend456/NLP/blob/main/nlplab_p2_22BD1A660W_3_5_2025.ipynb\" target=\"_parent\"><img src=\"https://colab.research.google.com/assets/colab-badge.svg\" alt=\"Open In Colab\"/></a>"
      ]
    },
    {
      "cell_type": "code",
      "execution_count": 7,
      "metadata": {
        "colab": {
          "base_uri": "https://localhost:8080/",
          "height": 70
        },
        "id": "WjypL-g9-Dai",
        "outputId": "d6c87085-a2c1-4b01-9e49-852b904e2712"
      },
      "outputs": [
        {
          "output_type": "execute_result",
          "data": {
            "text/plain": [
              "'Transformers is an American series of science fiction action films based on the Transformers franchise. Michael Bay directed the first five live action films: Transformers (2007), Revenge of the Fallen (2009), Dark of the Moon (2011), Age of Extinction (2014), and The Last Knight (2017), and has served as a producer for subsequent films. A sixth film, Bumblebee, directed by Travis Knight, was released in 2018, while a seventh film, Rise of the Beasts, directed by Steven Caple Jr., was released in 2023.'"
            ],
            "application/vnd.google.colaboratory.intrinsic+json": {
              "type": "string"
            }
          },
          "metadata": {},
          "execution_count": 7
        }
      ],
      "source": [
        "import requests\n",
        "import spacy\n",
        "\n",
        "url = \"https://en.wikipedia.org/api/rest_v1/page/summary/Transformers_(film_series)\"\n",
        "response = requests.get(url)\n",
        "data = response.json()\n",
        "text = data[\"extract\"]\n",
        "text"
      ]
    },
    {
      "cell_type": "code",
      "source": [
        "nlp = spacy.load(\"en_core_web_sm\")"
      ],
      "metadata": {
        "id": "UPY3r7HO-LyC"
      },
      "execution_count": 8,
      "outputs": []
    },
    {
      "cell_type": "code",
      "source": [
        "doc = nlp(text)"
      ],
      "metadata": {
        "id": "NU54VcOK-N-I"
      },
      "execution_count": 9,
      "outputs": []
    },
    {
      "cell_type": "code",
      "source": [
        "tokens = [token.text for token in doc]\n",
        "stop_words = [token.text for token in doc if token.is_stop]"
      ],
      "metadata": {
        "id": "z18tonOi-PVr"
      },
      "execution_count": 10,
      "outputs": []
    },
    {
      "cell_type": "code",
      "source": [
        "total_tokens = len(tokens)\n",
        "stop_word_count = len(stop_words)\n",
        "percentage_stop_words = (stop_word_count / total_tokens) * 100"
      ],
      "metadata": {
        "id": "OE8A_6PW-aO3"
      },
      "execution_count": 11,
      "outputs": []
    },
    {
      "cell_type": "code",
      "source": [
        "print(f\"Total words: {total_tokens}\")\n",
        "print(f\"Stop words: {stop_word_count}\")\n",
        "print(f\"Percentage of stop words: {percentage_stop_words:.2f}%\")"
      ],
      "metadata": {
        "colab": {
          "base_uri": "https://localhost:8080/"
        },
        "id": "mtAZuO3W-jBN",
        "outputId": "ae874eac-c88b-4cbd-fa5b-22876d8f76db"
      },
      "execution_count": 12,
      "outputs": [
        {
          "output_type": "stream",
          "name": "stdout",
          "text": [
            "Total words: 109\n",
            "Stop words: 32\n",
            "Percentage of stop words: 29.36%\n"
          ]
        }
      ]
    }
  ]
}