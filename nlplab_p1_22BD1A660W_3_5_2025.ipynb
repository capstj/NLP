{
  "cells": [
    {
      "cell_type": "markdown",
      "metadata": {
        "id": "view-in-github",
        "colab_type": "text"
      },
      "source": [
        "<a href=\"https://colab.research.google.com/github/WaryFriend456/NLP/blob/main/nlplab_p1_22BD1A660W_3_5_2025.ipynb\" target=\"_parent\"><img src=\"https://colab.research.google.com/assets/colab-badge.svg\" alt=\"Open In Colab\"/></a>"
      ]
    },
    {
      "cell_type": "code",
      "execution_count": 10,
      "id": "d576826b-df19-4b15-baa4-876cbd12e829",
      "metadata": {
        "id": "d576826b-df19-4b15-baa4-876cbd12e829"
      },
      "outputs": [],
      "source": [
        "import spacy"
      ]
    },
    {
      "cell_type": "code",
      "execution_count": 11,
      "id": "3ae1a250-84a4-4e15-82b4-831aa7eaf701",
      "metadata": {
        "id": "3ae1a250-84a4-4e15-82b4-831aa7eaf701"
      },
      "outputs": [],
      "source": [
        "nlp = spacy.load(\"en_core_web_sm\")"
      ]
    },
    {
      "cell_type": "code",
      "execution_count": 12,
      "id": "550a80ad-e3d7-4a49-b048-f028d8f86ea9",
      "metadata": {
        "id": "550a80ad-e3d7-4a49-b048-f028d8f86ea9"
      },
      "outputs": [],
      "source": [
        "text = \"I am Kushal Bang, Currently pursuing my BTech in KMIT.\"\n",
        "doc = nlp(text)"
      ]
    },
    {
      "cell_type": "code",
      "execution_count": 13,
      "id": "b416e596-5791-413c-b36d-e3f8f36228e3",
      "metadata": {
        "colab": {
          "base_uri": "https://localhost:8080/"
        },
        "id": "b416e596-5791-413c-b36d-e3f8f36228e3",
        "outputId": "b7d19250-ab11-4155-dfd0-6088f6576b57"
      },
      "outputs": [
        {
          "output_type": "stream",
          "name": "stdout",
          "text": [
            "First token:  I\n"
          ]
        }
      ],
      "source": [
        "firstToken = doc[0]\n",
        "print(\"First token: \", firstToken.text)"
      ]
    },
    {
      "cell_type": "code",
      "execution_count": 14,
      "id": "19f37ec6-31f2-47d7-888a-857be999a8c3",
      "metadata": {
        "colab": {
          "base_uri": "https://localhost:8080/"
        },
        "id": "19f37ec6-31f2-47d7-888a-857be999a8c3",
        "outputId": "34c9a656-3def-4c52-ac0e-bf927d1cfdfc"
      },
      "outputs": [
        {
          "output_type": "stream",
          "name": "stdout",
          "text": [
            "I am Kushal Bang, Currently pursuing my BTech in KMIT.\n"
          ]
        }
      ],
      "source": [
        "print(doc)"
      ]
    },
    {
      "cell_type": "code",
      "source": [
        "print(\"Words:\", [token.text for token in doc])"
      ],
      "metadata": {
        "colab": {
          "base_uri": "https://localhost:8080/"
        },
        "id": "XJ19jc6dAnGD",
        "outputId": "af35c1b9-60a6-4d92-e997-37b9fd35b238"
      },
      "id": "XJ19jc6dAnGD",
      "execution_count": 15,
      "outputs": [
        {
          "output_type": "stream",
          "name": "stdout",
          "text": [
            "Words: ['I', 'am', 'Kushal', 'Bang', ',', 'Currently', 'pursuing', 'my', 'BTech', 'in', 'KMIT', '.']\n"
          ]
        }
      ]
    },
    {
      "cell_type": "code",
      "source": [
        "print(\"Noun phrases:\", [chunk.text for chunk in doc.noun_chunks])"
      ],
      "metadata": {
        "colab": {
          "base_uri": "https://localhost:8080/"
        },
        "id": "oxsnyTXFAsB7",
        "outputId": "1a137823-b14a-4e3c-83c7-649061ebb6f8"
      },
      "id": "oxsnyTXFAsB7",
      "execution_count": 16,
      "outputs": [
        {
          "output_type": "stream",
          "name": "stdout",
          "text": [
            "Noun phrases: ['I', 'Kushal Bang', 'my BTech', 'KMIT']\n"
          ]
        }
      ]
    },
    {
      "cell_type": "code",
      "source": [
        "print(\"Named entities:\", [(ent.text, ent.label_) for ent in doc.ents])"
      ],
      "metadata": {
        "colab": {
          "base_uri": "https://localhost:8080/"
        },
        "id": "vJqLVwaWAvja",
        "outputId": "6e8de757-809f-48c3-a59d-f9f283085993"
      },
      "id": "vJqLVwaWAvja",
      "execution_count": 17,
      "outputs": [
        {
          "output_type": "stream",
          "name": "stdout",
          "text": [
            "Named entities: [('Kushal Bang', 'PERSON'), ('BTech', 'ORG'), ('KMIT', 'GPE')]\n"
          ]
        }
      ]
    }
  ],
  "metadata": {
    "kernelspec": {
      "display_name": "Python 3 (ipykernel)",
      "language": "python",
      "name": "python3"
    },
    "language_info": {
      "codemirror_mode": {
        "name": "ipython",
        "version": 3
      },
      "file_extension": ".py",
      "mimetype": "text/x-python",
      "name": "python",
      "nbconvert_exporter": "python",
      "pygments_lexer": "ipython3",
      "version": "3.11.9"
    },
    "colab": {
      "provenance": [],
      "include_colab_link": true
    }
  },
  "nbformat": 4,
  "nbformat_minor": 5
}